{
 "cells": [
  {
   "cell_type": "code",
   "execution_count": 1,
   "id": "572edd7f",
   "metadata": {},
   "outputs": [],
   "source": [
    "#Measures of central tendency\n",
    "#1. Exercise - Measures of Central Tendency\n",
    "#1.1 We saw that a dataset can have more than one mode. But can a dataset have more than one median? True or False."
   ]
  },
  {
   "cell_type": "markdown",
   "id": "faae1bec",
   "metadata": {},
   "source": [
    "False\n",
    "When the number of data points is even, the median is interpolated by taking the average of the two middle values:\n",
    ">>> median([1, 3, 5, 7])\n",
    "4.0"
   ]
  },
  {
   "cell_type": "code",
   "execution_count": 2,
   "id": "0b10c8a5",
   "metadata": {},
   "outputs": [],
   "source": [
    "data = [4, 7, 5, 9, 8, 6, 7, 7, 8, 5, 6, 9, 8, 5, 8, 7, 4, 7, 3, 6, 8, 9, 7, 6, 9]\n"
   ]
  },
  {
   "cell_type": "code",
   "execution_count": 40,
   "id": "b87c44a2",
   "metadata": {},
   "outputs": [],
   "source": [
    "#What is the mean, median, and mode of the dataset.\n",
    "#Create a new dictionary called data_dictionary and store the above answers as key value pairs in the dictionary."
   ]
  },
  {
   "cell_type": "code",
   "execution_count": 5,
   "id": "7773c876",
   "metadata": {},
   "outputs": [
    {
     "data": {
      "text/plain": [
       "6.72"
      ]
     },
     "execution_count": 5,
     "metadata": {},
     "output_type": "execute_result"
    }
   ],
   "source": [
    "#mean\n",
    "import statistics as stats\n",
    "stats.mean(data)\n"
   ]
  },
  {
   "cell_type": "code",
   "execution_count": 6,
   "id": "6ccffca8",
   "metadata": {},
   "outputs": [
    {
     "data": {
      "text/plain": [
       "7"
      ]
     },
     "execution_count": 6,
     "metadata": {},
     "output_type": "execute_result"
    }
   ],
   "source": [
    "#median\n",
    "stats.median(data)"
   ]
  },
  {
   "cell_type": "code",
   "execution_count": 7,
   "id": "0c0e2f6a",
   "metadata": {},
   "outputs": [],
   "source": [
    "import numpy as np"
   ]
  },
  {
   "cell_type": "code",
   "execution_count": 8,
   "id": "caddb1a8",
   "metadata": {},
   "outputs": [
    {
     "data": {
      "text/plain": [
       "array([3, 4, 4, 5, 5, 5, 6, 6, 6, 6, 7, 7, 7, 7, 7, 7, 8, 8, 8, 8, 8, 9,\n",
       "       9, 9, 9])"
      ]
     },
     "execution_count": 8,
     "metadata": {},
     "output_type": "execute_result"
    }
   ],
   "source": [
    "np.sort(data)"
   ]
  },
  {
   "cell_type": "code",
   "execution_count": 10,
   "id": "a52c9c92",
   "metadata": {},
   "outputs": [
    {
     "data": {
      "text/plain": [
       "25"
      ]
     },
     "execution_count": 10,
     "metadata": {},
     "output_type": "execute_result"
    }
   ],
   "source": [
    "len(data)"
   ]
  },
  {
   "cell_type": "code",
   "execution_count": 46,
   "id": "c0ed9fd6",
   "metadata": {},
   "outputs": [
    {
     "name": "stdout",
     "output_type": "stream",
     "text": [
      "13\n"
     ]
    }
   ],
   "source": [
    "index_of_data = int((len(data)+1)/2)\n",
    "print(index_of_data)"
   ]
  },
  {
   "cell_type": "code",
   "execution_count": 47,
   "id": "df7d10c0",
   "metadata": {},
   "outputs": [
    {
     "name": "stdout",
     "output_type": "stream",
     "text": [
      "7\n"
     ]
    }
   ],
   "source": [
    "var_custom_median = np.sort(data)[int((len(data)+1)/2)]\n",
    "print(var_custom_median)"
   ]
  },
  {
   "cell_type": "code",
   "execution_count": 19,
   "id": "4ee3fee4",
   "metadata": {},
   "outputs": [
    {
     "data": {
      "text/plain": [
       "7"
      ]
     },
     "execution_count": 19,
     "metadata": {},
     "output_type": "execute_result"
    }
   ],
   "source": [
    "#mode\n",
    "stats.mode(data)"
   ]
  },
  {
   "cell_type": "code",
   "execution_count": 35,
   "id": "8ae42ae7",
   "metadata": {},
   "outputs": [
    {
     "name": "stdout",
     "output_type": "stream",
     "text": [
      "{4: 2, 7: 6, 5: 3, 9: 4, 8: 5, 6: 4, 3: 1}\n"
     ]
    }
   ],
   "source": [
    "data_dictionary = {}\n",
    "\n",
    "for look_freq in data:\n",
    "    counter = data.count(look_freq)\n",
    "    data_dictionary[look_freq]=counter\n",
    "print(data_dictionary)"
   ]
  },
  {
   "cell_type": "code",
   "execution_count": 36,
   "id": "11aa933b",
   "metadata": {},
   "outputs": [
    {
     "name": "stdout",
     "output_type": "stream",
     "text": [
      "dict_values([2, 6, 3, 4, 5, 4, 1])\n",
      "6\n"
     ]
    }
   ],
   "source": [
    "#a\n",
    "values_of_dic_data =data_dictionary.values()\n",
    "print(values_of_dic_data)\n",
    "\n",
    "max_value_of_dic_data = max(values_of_dic_data)\n",
    "\n",
    "print(max_value_of_dic_data)"
   ]
  },
  {
   "cell_type": "code",
   "execution_count": 38,
   "id": "cf26e426",
   "metadata": {},
   "outputs": [
    {
     "data": {
      "text/plain": [
       "dict_items([(4, 2), (7, 6), (5, 3), (9, 4), (8, 5), (6, 4), (3, 1)])"
      ]
     },
     "execution_count": 38,
     "metadata": {},
     "output_type": "execute_result"
    }
   ],
   "source": [
    "#b\n",
    "data_dictionary.items()"
   ]
  },
  {
   "cell_type": "code",
   "execution_count": 39,
   "id": "a336e65a",
   "metadata": {
    "scrolled": true
   },
   "outputs": [
    {
     "name": "stdout",
     "output_type": "stream",
     "text": [
      "mode is  7\n"
     ]
    }
   ],
   "source": [
    "for key_dic_data,value_dic_data in data_dictionary.items():\n",
    "    if value_dic_data == max_value_of_dic_data:\n",
    "        print(\"mode is \", key_dic_data)\n",
    "\n"
   ]
  },
  {
   "cell_type": "code",
   "execution_count": 41,
   "id": "5b823db0",
   "metadata": {},
   "outputs": [],
   "source": [
    "#1.3 To find which statistic do you have to arrange the data in an ascending order?"
   ]
  },
  {
   "cell_type": "markdown",
   "id": "5fceed07",
   "metadata": {},
   "source": [
    "The median:\n",
    "import numpy as np\n",
    "np.sort(data)\n",
    "var_custom_median = np.sort(data)[int((len(data)+1)/2)]\n",
    "print(var_custom_median)"
   ]
  },
  {
   "cell_type": "code",
   "execution_count": 48,
   "id": "ac617b2f",
   "metadata": {},
   "outputs": [],
   "source": [
    "#1.4 How do you find the median when there are even number of data points?\n",
    "\n"
   ]
  },
  {
   "cell_type": "markdown",
   "id": "bf7240f2",
   "metadata": {},
   "source": [
    "When the number of data points is even, the median is interpolated by taking the average of the two middle values:\n",
    "--> median([1,3,5,7])\n",
    "4.0"
   ]
  },
  {
   "cell_type": "code",
   "execution_count": 49,
   "id": "92266f8b",
   "metadata": {},
   "outputs": [],
   "source": [
    "#1.5 What are outliers in a dataset? Which of the three - Mean, Median, and Mode - is more susceptible to change with presence of outliers in the data?"
   ]
  },
  {
   "cell_type": "markdown",
   "id": "63bbaa88",
   "metadata": {},
   "source": [
    "This means that the value will show a relatively large fluctuation when outlying points are added or removed from the dataset\n",
    "The mean is more susceptible to change with presence of outliers in the data"
   ]
  }
 ],
 "metadata": {
  "kernelspec": {
   "display_name": "Python 3",
   "language": "python",
   "name": "python3"
  },
  "language_info": {
   "codemirror_mode": {
    "name": "ipython",
    "version": 3
   },
   "file_extension": ".py",
   "mimetype": "text/x-python",
   "name": "python",
   "nbconvert_exporter": "python",
   "pygments_lexer": "ipython3",
   "version": "3.8.8"
  }
 },
 "nbformat": 4,
 "nbformat_minor": 5
}
